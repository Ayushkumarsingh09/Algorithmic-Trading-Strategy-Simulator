{
 "cells": [
  {
   "cell_type": "code",
   "execution_count": null,
   "metadata": {},
   "outputs": [],
   "source": [
    "# Advanced_Backtesting_Analysis.ipynb\n",
    "\n",
    "import pandas as pd\n",
    "from src.market_simulator import MarketSimulator\n",
    "from src.strategy import Strategy\n",
    "from src.backtesting import Backtester\n",
    "from src.performance_metrics import PerformanceMetrics\n",
    "\n",
    "# Load data\n",
    "data = pd.read_csv(\"data/historical_prices.csv\", parse_dates=[\"date\"])\n",
    "data.set_index(\"date\", inplace=True)\n",
    "\n",
    "# Test multiple strategies\n",
    "strategies = {\n",
    "    \"SMA_Crossover\": Strategy().sma_crossover,\n",
    "    \"RSI_Strategy\": Strategy().rsi_strategy\n",
    "}\n",
    "\n",
    "results = {}\n",
    "\n",
    "for name, strat in strategies.items():\n",
    "    simulator = MarketSimulator(historical_data=data)\n",
    "    backtester = Backtester(strat, simulator)\n",
    "    final_value = backtester.run(data)\n",
    "    returns = data[\"close\"].pct_change()\n",
    "    sharpe_ratio = PerformanceMetrics.calculate_sharpe_ratio(returns)\n",
    "    results[name] = {\"Final Value\": final_value, \"Sharpe Ratio\": sharpe_ratio}\n",
    "\n",
    "# Display results\n",
    "print(pd.DataFrame(results))\n"
   ]
  }
 ],
 "metadata": {
  "language_info": {
   "name": "python"
  }
 },
 "nbformat": 4,
 "nbformat_minor": 2
}
