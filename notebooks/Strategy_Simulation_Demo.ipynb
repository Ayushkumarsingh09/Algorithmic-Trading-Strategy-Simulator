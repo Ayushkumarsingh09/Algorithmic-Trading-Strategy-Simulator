{
 "cells": [
  {
   "cell_type": "code",
   "execution_count": null,
   "metadata": {},
   "outputs": [],
   "source": [
    "# Strategy_Simulation_Demo.ipynb\n",
    "\n",
    "import pandas as pd\n",
    "from src.market_simulator import MarketSimulator\n",
    "from src.strategy import Strategy\n",
    "from src.backtesting import Backtester\n",
    "from src.visualization import Visualization\n",
    "from src.performance_metrics import PerformanceMetrics\n",
    "\n",
    "# Load historical data\n",
    "data = pd.read_csv(\"data/historical_prices.csv\", parse_dates=[\"date\"])\n",
    "data.set_index(\"date\", inplace=True)\n",
    "\n",
    "# Initialize components\n",
    "simulator = MarketSimulator(historical_data=data)\n",
    "strategy = Strategy().sma_crossover\n",
    "backtester = Backtester(strategy, simulator)\n",
    "\n",
    "# Backtest strategy\n",
    "portfolio_value = backtester.run(data)\n",
    "\n",
    "# Visualize results\n",
    "Visualization.plot_equity_curve(data.index, simulator.portfolio_value)\n",
    "\n",
    "# Calculate performance metrics\n",
    "returns = data[\"close\"].pct_change()\n",
    "sharpe_ratio = PerformanceMetrics.calculate_sharpe_ratio(returns)\n",
    "print(f\"Sharpe Ratio: {sharpe_ratio}\")\n"
   ]
  }
 ],
 "metadata": {
  "language_info": {
   "name": "python"
  }
 },
 "nbformat": 4,
 "nbformat_minor": 2
}
