{
 "cells": [
  {
   "cell_type": "code",
   "execution_count": null,
   "metadata": {},
   "outputs": [],
   "source": [
    "# Machine_Learning_Strategy_Optimization.ipynb\n",
    "\n",
    "import pandas as pd\n",
    "from src.ml_models import MLModels\n",
    "from src.data_preprocessing import DataPreprocessing\n",
    "\n",
    "# Load data\n",
    "data = DataPreprocessing.load_and_clean_data(\"data/historical_prices.csv\")\n",
    "\n",
    "# Add target column (e.g., binary: 1 for price increase, 0 for decrease)\n",
    "data[\"target\"] = (data[\"close\"].shift(-1) > data[\"close\"]).astype(int)\n",
    "\n",
    "# Train ML model\n",
    "ml_model = MLModels(data)\n",
    "ml_model.train()\n",
    "\n",
    "# Predict on new data\n",
    "new_data_point = data.iloc[-1][[\"open\", \"high\", \"low\", \"close\", \"volume\"]]\n",
    "prediction = ml_model.predict(new_data_point)\n",
    "print(f\"Predicted Target: {prediction}\")\n"
   ]
  }
 ],
 "metadata": {
  "language_info": {
   "name": "python"
  }
 },
 "nbformat": 4,
 "nbformat_minor": 2
}
